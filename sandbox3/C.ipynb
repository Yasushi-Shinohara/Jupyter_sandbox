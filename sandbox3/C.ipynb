{
 "cells": [
  {
   "cell_type": "markdown",
   "metadata": {},
   "source": [
    "[ベイズ最適化入門](https://qiita.com/masasora/items/cc2f10cb79f8c0a6bbaa)  \n",
    "https://github.com/Ma-sa-ue/practice/blob/master/machine%20learning(python)/bayeisan_optimization.ipynb  \n",
    "The original code is based on python2.\n",
    "A few modifications to fit it to python3 are needed."
   ]
  },
  {
   "cell_type": "code",
   "execution_count": 1,
   "metadata": {},
   "outputs": [],
   "source": [
    "%matplotlib inline\n",
    "%run functions.py\n",
    "np.random.seed(seed=123)"
   ]
  },
  {
   "cell_type": "code",
   "execution_count": 2,
   "metadata": {},
   "outputs": [
    {
     "name": "stderr",
     "output_type": "stream",
     "text": [
      "ERROR:root:Internal Python error in the inspect module.\n",
      "Below is the traceback from this internal error.\n",
      "\n"
     ]
    },
    {
     "name": "stdout",
     "output_type": "stream",
     "text": [
      "Traceback (most recent call last):\n",
      "  File \"/home/shinohara/.pyenv/versions/anaconda3-5.3.1/lib/python3.7/site-packages/IPython/core/interactiveshell.py\", line 2961, in run_code\n",
      "    exec(code_obj, self.user_global_ns, self.user_ns)\n",
      "  File \"<ipython-input-2-0de6bda673ac>\", line 1, in <module>\n",
      "    GPR = GPR()\n",
      "NameError: name 'GPR' is not defined\n",
      "\n",
      "During handling of the above exception, another exception occurred:\n",
      "\n",
      "Traceback (most recent call last):\n",
      "  File \"/home/shinohara/.pyenv/versions/anaconda3-5.3.1/lib/python3.7/site-packages/IPython/core/interactiveshell.py\", line 1863, in showtraceback\n",
      "    stb = value._render_traceback_()\n",
      "AttributeError: 'NameError' object has no attribute '_render_traceback_'\n",
      "\n",
      "During handling of the above exception, another exception occurred:\n",
      "\n",
      "Traceback (most recent call last):\n",
      "  File \"/home/shinohara/.pyenv/versions/anaconda3-5.3.1/lib/python3.7/site-packages/IPython/core/ultratb.py\", line 1095, in get_records\n",
      "    return _fixed_getinnerframes(etb, number_of_lines_of_context, tb_offset)\n",
      "  File \"/home/shinohara/.pyenv/versions/anaconda3-5.3.1/lib/python3.7/site-packages/IPython/core/ultratb.py\", line 311, in wrapped\n",
      "    return f(*args, **kwargs)\n",
      "  File \"/home/shinohara/.pyenv/versions/anaconda3-5.3.1/lib/python3.7/site-packages/IPython/core/ultratb.py\", line 345, in _fixed_getinnerframes\n",
      "    records = fix_frame_records_filenames(inspect.getinnerframes(etb, context))\n",
      "  File \"/home/shinohara/.pyenv/versions/anaconda3-5.3.1/lib/python3.7/inspect.py\", line 1495, in getinnerframes\n",
      "    frameinfo = (tb.tb_frame,) + getframeinfo(tb, context)\n",
      "  File \"/home/shinohara/.pyenv/versions/anaconda3-5.3.1/lib/python3.7/inspect.py\", line 1453, in getframeinfo\n",
      "    filename = getsourcefile(frame) or getfile(frame)\n",
      "  File \"/home/shinohara/.pyenv/versions/anaconda3-5.3.1/lib/python3.7/inspect.py\", line 696, in getsourcefile\n",
      "    if getattr(getmodule(object, filename), '__loader__', None) is not None:\n",
      "  File \"/home/shinohara/.pyenv/versions/anaconda3-5.3.1/lib/python3.7/inspect.py\", line 742, in getmodule\n",
      "    os.path.realpath(f)] = module.__name__\n",
      "AttributeError: module has no attribute '__name__'\n"
     ]
    },
    {
     "ename": "NameError",
     "evalue": "name 'GPR' is not defined",
     "output_type": "error",
     "traceback": [
      "\u001b[0;31m---------------------------------------------------------------------------\u001b[0m"
     ]
    }
   ],
   "source": [
    "GPR = GPR()\n",
    "print('# The choice of the kernel: ', GPR.kernel_name1)\n",
    "BO = Bayesian_opt()\n",
    "BO.aqui_name = 'EI'\n",
    "print('# The choice of acquisition function: ',BO.aqui_name)"
   ]
  },
  {
   "cell_type": "code",
   "execution_count": null,
   "metadata": {},
   "outputs": [],
   "source": [
    "def generate_sample(x):\n",
    "    return 40.0*np.sin(x/1.0) - (0.3*(x+6.0))**2 - (0.2*(x-4.0))**2 - 1.0*np.abs(x+2.0) + np.random.normal(0,1,1)\n",
    "\n",
    "x = np.linspace(-20,20,1000)\n",
    "z = list(map(generate_sample,x)) #for python3 \n",
    "#z = generate_sample(x)\n",
    "plt.plot(x, z) #### plot true data\n",
    "plt.show()\n",
    "\n"
   ]
  },
  {
   "cell_type": "code",
   "execution_count": null,
   "metadata": {},
   "outputs": [],
   "source": [
    "\n",
    "x_sample = np.array([])\n",
    "y_sample = np.array([])\n",
    "x_point = np.random.uniform(-20,20)\n",
    "epoch=15\n",
    "maxval = 'Initial'\n",
    "plt.figure(figsize=(20, 50))\n",
    "for i in range(epoch):\n",
    "    if x_point not in x_sample:\n",
    "        x_sample = np.append(x_sample,x_point)\n",
    "        print (\"x_point, maxval = \"+str(x_point)+',  '+str(maxval))\n",
    "        y_point = generate_sample(x_point)\n",
    "        y_sample = np.append(y_sample,y_point)\n",
    "    mean, std = GPR.xsample2meanvariance(x_sample, y_sample, x, eps = 1.0e-10)\n",
    "    maxval = max(y_sample)\n",
    "    aqui = BO.get_aqui(mean, std, maxval)\n",
    "    x_point = x[np.argmax(aqui)] + np.random.normal(0,0.01,1)\n",
    "    if(i%1==0):\n",
    "        plt.subplot(epoch*2,2,i*2+1)\n",
    "        plt.plot(x,np.array(mean))\n",
    "        plt.plot(x,z,'k--')\n",
    "        high_bound = mean+ 1.0*std\n",
    "        lower_bound = mean- 1.0*std\n",
    "        plt.fill_between(x,high_bound,lower_bound, alpha=0.5)\n",
    "        plt.xlim(-20,20)\n",
    "        plt.ylim(-100,100)\n",
    "        plt.scatter(x_sample,y_sample)\n",
    "        plt.subplot(epoch*2,2,i*2+2)\n",
    "        plt.plot(x,aqui)\n",
    "        plt.savefig(\"bayes_\"+str(BO.aqui_name)+\".png\")### change the name\n",
    "plt.show()\n",
    "\n",
    "print (\"finish\")"
   ]
  },
  {
   "cell_type": "code",
   "execution_count": null,
   "metadata": {},
   "outputs": [],
   "source": []
  },
  {
   "cell_type": "code",
   "execution_count": null,
   "metadata": {},
   "outputs": [],
   "source": []
  },
  {
   "cell_type": "code",
   "execution_count": null,
   "metadata": {},
   "outputs": [],
   "source": []
  }
 ],
 "metadata": {
  "kernelspec": {
   "display_name": "Python 3",
   "language": "python",
   "name": "python3"
  },
  "language_info": {
   "codemirror_mode": {
    "name": "ipython",
    "version": 3
   },
   "file_extension": ".py",
   "mimetype": "text/x-python",
   "name": "python",
   "nbconvert_exporter": "python",
   "pygments_lexer": "ipython3",
   "version": "3.7.0"
  }
 },
 "nbformat": 4,
 "nbformat_minor": 2
}
